{
 "cells": [
  {
   "cell_type": "markdown",
   "metadata": {},
   "source": [
    "# 3.2.4 Exercises in Probability Drill Workspace\n",
    "\n",
    "1. Probabilities of flipping a coin = all the same because not conditional probabilities\n",
    "    a) P(HTTH) : P(H) * P(T) * P(T) * P(H) = 1/2 * 1/2 * 1/2 * 1/2 = 1/16\n",
    "    b) P(HHHH): P(H) * P(H) * P(H) * P(H) = 1/2 * 1/2 * 1/2 * 1/2 = 1/16\n",
    "    c) P(TTHH): P(T) * P(T) * P(H) * P(H) = 1/2 * 1/2 * 1/2 * 1/2 = 1/16\n",
    "\n",
    "2. P(man) = 21/45\n",
    "    P(not man) = 1 - 21/45 = 24/45\n",
    "   \n",
    "3. P(crash | Bernice flying) = 0.00005 * 10 = 0.000005 = 0.0005%\n",
    "\n",
    "4. This conclusion suffers from selection bias because the people who are completing the survey are the ones who opted in to completing the survey.  If they opted into the survey, they likely have more time to spend on the website in general, so this 15 minutes surfing is likely biased towards a longer time spent surfing. "
   ]
  }
 ],
 "metadata": {
  "kernelspec": {
   "display_name": "Python 3",
   "language": "python",
   "name": "python3"
  },
  "language_info": {
   "codemirror_mode": {
    "name": "ipython",
    "version": 3
   },
   "file_extension": ".py",
   "mimetype": "text/x-python",
   "name": "python",
   "nbconvert_exporter": "python",
   "pygments_lexer": "ipython3",
   "version": "3.6.2"
  }
 },
 "nbformat": 4,
 "nbformat_minor": 2
}

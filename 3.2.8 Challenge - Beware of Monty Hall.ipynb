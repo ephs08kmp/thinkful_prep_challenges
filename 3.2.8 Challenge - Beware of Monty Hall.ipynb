{
 "cells": [
  {
   "cell_type": "markdown",
   "metadata": {},
   "source": [
    "# 3.2.8 Challenge - Beware of Monty Hall\n",
    "\n",
    "Initial scenario: Imagine that you chose door 1.  The probability of choosing any door with a prize is 1/3, so D1 represents choosing door 1.\n",
    "    P(Prize D1) = 1/3\n",
    "    P(Prize D2) = 1/3\n",
    "    P(Prize D3) = 1/3\n",
    "    \n",
    "    \n",
    "After the host opens the first dud door, D3:\n",
    "    P(Prize in D1 | Shown Dud D3) = 1/3\n",
    "    P(Prize in D2 | Shown Dud D3) = 2/3\n",
    "    P(Prize in D3 | Shown Dud D3 = 0\n",
    "\n",
    "It's more likely that your first choice of door is a dud, so when one of the other doors is revealed to be a dud, you should change your choice to the last remaining door to have a 2/3 chance of winning the prize. \n",
    "\n",
    "Bayes' Rule applies to this because given that the host shows a dud door, this changes the probability of the car being behind the other doors because now all the probability of the car being behind a door you DIDN'T choose is in the remaining door.  You should always switch your choice."
   ]
  }
 ],
 "metadata": {
  "kernelspec": {
   "display_name": "Python 3",
   "language": "python",
   "name": "python3"
  },
  "language_info": {
   "codemirror_mode": {
    "name": "ipython",
    "version": 3
   },
   "file_extension": ".py",
   "mimetype": "text/x-python",
   "name": "python",
   "nbconvert_exporter": "python",
   "pygments_lexer": "ipython3",
   "version": "3.6.2"
  }
 },
 "nbformat": 4,
 "nbformat_minor": 2
}

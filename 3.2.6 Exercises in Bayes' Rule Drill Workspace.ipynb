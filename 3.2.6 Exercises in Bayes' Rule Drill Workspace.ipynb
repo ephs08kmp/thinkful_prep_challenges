{
 "cells": [
  {
   "cell_type": "markdown",
   "metadata": {},
   "source": [
    "# 3.2.6 Exercises in Bayes' Rule Drill Workspace\n",
    "\n",
    "A diagnostic test has a 98% probability of giving a positive result when applied to a person suffering from Thripshaw's Disease, and 10% probability of giving a (false) positive when applied to a non-sufferer. It is estimated that 0.5 % of the population are sufferers. Suppose that the test is now administered to a person whose disease status is unknown. Calculate the probability that the test will:\n",
    "\n",
    "1. Be positive - \n",
    "    Intuition: 5%\n",
    "    Bayes' rule: P(Positive | Thripshaw's) + P(Positive | Non-Thripshaw's) = 0.98 * 0.005 + 0.10 * 0.995 = 0.1044 = 10%\n",
    "2. Correctly diagnose a sufferer of Thripshaw's -  \n",
    "    Intuition: 98%\n",
    "    Bayes' rule: P(Positive | Thripshaw's) = 98%\n",
    "3. Correctly identify a non-sufferer of Thripshaw's -  \n",
    "    Intuition: 90%\n",
    "    Bayes' rule: P(Negative | Non-Thripshaw's) = 90%\n",
    "4. Misclassify the person -  \n",
    "    Intuition: 20%\n",
    "    Bayes' rule: 1 - (P(Positive | Thripshaw's) + P(Negative | Non-Thripshaw's) = 1 - ((0.98 * 0.005) + (0.9 * 0.995)) = 0.0996 = 9.96%"
   ]
  }
 ],
 "metadata": {
  "kernelspec": {
   "display_name": "Python 3",
   "language": "python",
   "name": "python3"
  },
  "language_info": {
   "codemirror_mode": {
    "name": "ipython",
    "version": 3
   },
   "file_extension": ".py",
   "mimetype": "text/x-python",
   "name": "python",
   "nbconvert_exporter": "python",
   "pygments_lexer": "ipython3",
   "version": "3.6.2"
  }
 },
 "nbformat": 4,
 "nbformat_minor": 2
}

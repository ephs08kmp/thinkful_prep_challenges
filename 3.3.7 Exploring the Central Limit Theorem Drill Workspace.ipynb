{
 "cells": [
  {
   "cell_type": "markdown",
   "metadata": {},
   "source": [
    "# 3.3.7 Exploring the Central Limit Theorem Drill Workspace"
   ]
  },
  {
   "cell_type": "code",
   "execution_count": 10,
   "metadata": {},
   "outputs": [
    {
     "name": "stdout",
     "output_type": "stream",
     "text": [
      "2.15\n",
      "5.2\n",
      "1.061838029079765\n",
      "1.5362291495737217\n"
     ]
    }
   ],
   "source": [
    "import numpy as np\n",
    "from scipy.stats import ttest_ind\n",
    "\n",
    "#population creation\n",
    "pop1 = np.random.binomial(10, 0.2, 10000)\n",
    "pop2 = np.random.binomial(10, 0.5, 10000)\n",
    "\n",
    "#sampling\n",
    "sample1 = np.random.choice(pop1, 20, replace=True)\n",
    "sample2 = np.random.choice(pop2, 20, replace=True)\n",
    "\n",
    "mean1 = sample1.mean()\n",
    "std1 = sample1.std()\n",
    "mean2 = sample2.mean()\n",
    "std2 = sample2.std()\n",
    "\n",
    "print(mean1)\n",
    "print(mean2)\n",
    "print(std1)\n",
    "print(std2)"
   ]
  },
  {
   "cell_type": "markdown",
   "metadata": {},
   "source": [
    "1. Expected: increasing the sample size will make the samples more normally distributed, meaning a smaller standard deviation. Decreasing the sample size will make the results more skewed and therefore have larger standard deviations.\n",
    "Sample size 100:\n",
    "2.03\n",
    "5.07\n",
    "1.0995908329919817\n",
    "1.6688618876348036\n",
    "\n",
    "Sample size 1000:\n",
    "2.001\n",
    "5.0\n",
    "1.2445878835984223\n",
    "1.5899685531481433\n",
    "\n",
    "Sample size 20:\n",
    "2.4\n",
    "5.05\n",
    "1.3190905958272918\n",
    "1.4991664350564948\n",
    "\n",
    "Actual: The mean remains approximately the same.  The standard deviation changes each time, and generally is lower as the sample size increases."
   ]
  },
  {
   "cell_type": "code",
   "execution_count": 19,
   "metadata": {},
   "outputs": [
    {
     "name": "stdout",
     "output_type": "stream",
     "text": [
      "14.108621916149936\n",
      "Ttest_indResult(statistic=14.101565840731782, pvalue=2.5718877708850377e-42)\n"
     ]
    }
   ],
   "source": [
    "#population creation with pop1 p=0.3\n",
    "pop1 = np.random.binomial(10, 0.3, 10000)\n",
    "pop2 = np.random.binomial(10, 0.5, 10000)\n",
    "\n",
    "#sampling\n",
    "sample1 = np.random.choice(pop1, 1000, replace=True)\n",
    "sample2 = np.random.choice(pop2, 1000, replace=True)\n",
    "\n",
    "mean1 = sample1.mean()\n",
    "mean2 = sample2.mean()\n",
    "\n",
    "diff = mean2 - mean1\n",
    "size = np.array([len(sample1), len(sample2)])\n",
    "sd = np.array([sample1.std(), sample2.std()])\n",
    "diff_se = np.sqrt(sum(sd**2 / size))\n",
    "\n",
    "print(diff/diff_se)\n",
    "print(ttest_ind(sample2, sample1, equal_var=False))"
   ]
  },
  {
   "cell_type": "markdown",
   "metadata": {},
   "source": [
    "2. As the probabilities of the two populations approach one another, the p-value increases, meaning there is more overlap in the values.  This means that the differences are no longer because of differences in the populations. "
   ]
  },
  {
   "cell_type": "code",
   "execution_count": 20,
   "metadata": {},
   "outputs": [
    {
     "name": "stdout",
     "output_type": "stream",
     "text": [
      "6.545332656909464\n",
      "Ttest_indResult(statistic=6.542059172005088, pvalue=7.701927328863162e-11)\n"
     ]
    }
   ],
   "source": [
    "#population creation with poisson distributions\n",
    "pop1 = np.random.poisson(0.3, 10000)\n",
    "pop2 = np.random.poisson(0.5, 10000)\n",
    "\n",
    "#sampling\n",
    "sample1 = np.random.choice(pop1, 1000, replace=True)\n",
    "sample2 = np.random.choice(pop2, 1000, replace=True)\n",
    "\n",
    "mean1 = sample1.mean()\n",
    "mean2 = sample2.mean()\n",
    "\n",
    "diff = mean2 - mean1\n",
    "size = np.array([len(sample1), len(sample2)])\n",
    "sd = np.array([sample1.std(), sample2.std()])\n",
    "diff_se = np.sqrt(sum(sd**2 / size))\n",
    "\n",
    "print(diff/diff_se)\n",
    "print(ttest_ind(sample2, sample1, equal_var=False))"
   ]
  },
  {
   "cell_type": "markdown",
   "metadata": {},
   "source": [
    "3. Summary: The sample means still approximately represent the population values because as the values approach each other, the p-values become larger."
   ]
  }
 ],
 "metadata": {
  "kernelspec": {
   "display_name": "Python 3",
   "language": "python",
   "name": "python3"
  },
  "language_info": {
   "codemirror_mode": {
    "name": "ipython",
    "version": 3
   },
   "file_extension": ".py",
   "mimetype": "text/x-python",
   "name": "python",
   "nbconvert_exporter": "python",
   "pygments_lexer": "ipython3",
   "version": "3.6.2"
  }
 },
 "nbformat": 4,
 "nbformat_minor": 2
}

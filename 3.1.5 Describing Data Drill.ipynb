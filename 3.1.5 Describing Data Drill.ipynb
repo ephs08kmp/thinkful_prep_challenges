{
 "cells": [
  {
   "cell_type": "markdown",
   "metadata": {},
   "source": [
    "# 3.1.5 Describing Data Drill Workspace\n",
    "1. Brady Bunch Kids\n",
    "   a) Mean: (14 + 12 + 11 + 10 + 8 + 6 + 8) / (7) = 9.85 years old\n",
    "   b) Median: 6, 8, 8, 10, 11, 12, 14 = 10 years old\n",
    "   c) Mode: 8 years old\n",
    "   d) Variance (population): ((14-9.85)^2 + (12-9.85)^2 + (11-9.85)^2 + (10-9.85)^2 + (8-9.85)^2 + (6-9.85)^2 + (8-9.85)^2) / (7) = 6.4 years squared\n",
    "          Note: Variation and standard deviation of the population was used because this is the entire population of the Brady Bunch kids, not a sample of the kids.\n",
    "   e) Standard Deviation (population: v^0.5 = 7.47^0.5 = 2.53 years\n",
    "   f) Standard Error: s / (n^0.5) = 2.53 / (7^0.5) = 0.956 years\n",
    "2. The Brady Bunch kids are 9.85 +- 2.53 years old.  I chose to use the mean to describe the central tendency because the data set of kid's ages does not have an extreme outlier as defined as more than 1.5 standard deviations higher or lower than the mean (note: 13.6 rounds to 14, and is not shown as a flyer on a boxplot and is therefore not considered an outlier). I chose to use the standard deviation to describe the variance because it is in the same units as the mean and provides the spread of the data to help depict the range of ages."
   ]
  },
  {
   "cell_type": "code",
   "execution_count": 5,
   "metadata": {},
   "outputs": [
    {
     "data": {
      "text/html": [
       "<div>\n",
       "<style scoped>\n",
       "    .dataframe tbody tr th:only-of-type {\n",
       "        vertical-align: middle;\n",
       "    }\n",
       "\n",
       "    .dataframe tbody tr th {\n",
       "        vertical-align: top;\n",
       "    }\n",
       "\n",
       "    .dataframe thead th {\n",
       "        text-align: right;\n",
       "    }\n",
       "</style>\n",
       "<table border=\"1\" class=\"dataframe\">\n",
       "  <thead>\n",
       "    <tr style=\"text-align: right;\">\n",
       "      <th></th>\n",
       "      <th>0</th>\n",
       "    </tr>\n",
       "  </thead>\n",
       "  <tbody>\n",
       "    <tr>\n",
       "      <th>count</th>\n",
       "      <td>7.000000</td>\n",
       "    </tr>\n",
       "    <tr>\n",
       "      <th>mean</th>\n",
       "      <td>9.857143</td>\n",
       "    </tr>\n",
       "    <tr>\n",
       "      <th>std</th>\n",
       "      <td>2.734262</td>\n",
       "    </tr>\n",
       "    <tr>\n",
       "      <th>min</th>\n",
       "      <td>6.000000</td>\n",
       "    </tr>\n",
       "    <tr>\n",
       "      <th>25%</th>\n",
       "      <td>8.000000</td>\n",
       "    </tr>\n",
       "    <tr>\n",
       "      <th>50%</th>\n",
       "      <td>10.000000</td>\n",
       "    </tr>\n",
       "    <tr>\n",
       "      <th>75%</th>\n",
       "      <td>11.500000</td>\n",
       "    </tr>\n",
       "    <tr>\n",
       "      <th>max</th>\n",
       "      <td>14.000000</td>\n",
       "    </tr>\n",
       "  </tbody>\n",
       "</table>\n",
       "</div>"
      ],
      "text/plain": [
       "               0\n",
       "count   7.000000\n",
       "mean    9.857143\n",
       "std     2.734262\n",
       "min     6.000000\n",
       "25%     8.000000\n",
       "50%    10.000000\n",
       "75%    11.500000\n",
       "max    14.000000"
      ]
     },
     "execution_count": 5,
     "metadata": {},
     "output_type": "execute_result"
    }
   ],
   "source": [
    "import pandas as pd\n",
    "import numpy as np\n",
    "import matplotlib.pyplot as plt\n",
    "%matplotlib inline\n",
    "brady = [14, 12, 11, 10, 8, 6, 8]\n",
    "bunch = pd.DataFrame(brady)\n",
    "bunch.describe()"
   ]
  },
  {
   "cell_type": "code",
   "execution_count": 6,
   "metadata": {},
   "outputs": [
    {
     "data": {
      "image/png": "[encoded data removed]",
      "text/plain": [
       "<matplotlib.figure.Figure at 0x104583128>"
      ]
     },
     "metadata": {},
     "output_type": "display_data"
    }
   ],
   "source": [
    "plt.boxplot(brady)\n",
    "plt.show()"
   ]
  },
  {
   "cell_type": "markdown",
   "metadata": {},
   "source": [
    "3. After Cindy's birthday:\n",
    "   a) Mean: (14 + 12 + 11 + 10 + 8 + 7 + 8) / (7) = 10 years old == DIFFERENT\n",
    "   b) Median: 7, 8, 8, 10, 11, 12, 14 = 10 years old == SAME\n",
    "   c) Mode: 8 years old == SAME\n",
    "   d) Variance (population): ((14-10)^2 + (12-10)^2 + (11-10)^2 + (10-10)^2 + (8-10)^2 + (7-10)^2 + (8-10)^2) / (7) =  5.43 years squared == DIFFERENT\n",
    "   e) Standard Deviation (population: v^0.5 = 5.43^0.5 = 2.33 years == DIFFERENT\n",
    "   f) Standard Error: s / (n^0.5) = 2.53 / (7^0.5) = 0.88 years == DIFFERENT"
   ]
  },
  {
   "cell_type": "code",
   "execution_count": 10,
   "metadata": {},
   "outputs": [
    {
     "data": {
      "text/html": [
       "<div>\n",
       "<style scoped>\n",
       "    .dataframe tbody tr th:only-of-type {\n",
       "        vertical-align: middle;\n",
       "    }\n",
       "\n",
       "    .dataframe tbody tr th {\n",
       "        vertical-align: top;\n",
       "    }\n",
       "\n",
       "    .dataframe thead th {\n",
       "        text-align: right;\n",
       "    }\n",
       "</style>\n",
       "<table border=\"1\" class=\"dataframe\">\n",
       "  <thead>\n",
       "    <tr style=\"text-align: right;\">\n",
       "      <th></th>\n",
       "      <th>0</th>\n",
       "    </tr>\n",
       "  </thead>\n",
       "  <tbody>\n",
       "    <tr>\n",
       "      <th>count</th>\n",
       "      <td>7.000000</td>\n",
       "    </tr>\n",
       "    <tr>\n",
       "      <th>mean</th>\n",
       "      <td>10.000000</td>\n",
       "    </tr>\n",
       "    <tr>\n",
       "      <th>std</th>\n",
       "      <td>2.516611</td>\n",
       "    </tr>\n",
       "    <tr>\n",
       "      <th>min</th>\n",
       "      <td>7.000000</td>\n",
       "    </tr>\n",
       "    <tr>\n",
       "      <th>25%</th>\n",
       "      <td>8.000000</td>\n",
       "    </tr>\n",
       "    <tr>\n",
       "      <th>50%</th>\n",
       "      <td>10.000000</td>\n",
       "    </tr>\n",
       "    <tr>\n",
       "      <th>75%</th>\n",
       "      <td>11.500000</td>\n",
       "    </tr>\n",
       "    <tr>\n",
       "      <th>max</th>\n",
       "      <td>14.000000</td>\n",
       "    </tr>\n",
       "  </tbody>\n",
       "</table>\n",
       "</div>"
      ],
      "text/plain": [
       "               0\n",
       "count   7.000000\n",
       "mean   10.000000\n",
       "std     2.516611\n",
       "min     7.000000\n",
       "25%     8.000000\n",
       "50%    10.000000\n",
       "75%    11.500000\n",
       "max    14.000000"
      ]
     },
     "execution_count": 10,
     "metadata": {},
     "output_type": "execute_result"
    }
   ],
   "source": [
    "brady[-2] = 7\n",
    "bunch = pd.DataFrame(brady)\n",
    "bunch.describe()"
   ]
  },
  {
   "cell_type": "markdown",
   "metadata": {},
   "source": [
    "4. 1-year-old Jessica:\n",
    "   a) Mean: (14 + 12 + 11 + 10 + 8 + 7 + 1) / (7) = 9 years old == DIFFERENT\n",
    "   b) Median: 1, 7, 8, 10, 11, 12, 14 = 10 years old == SAME\n",
    "   c) Mode: There is no mode == SAME\n",
    "   d) Variance (population): ((14-9)^2 + (12-9)^2 + (11-9)^2 + (10-9)^2 + (8-9)^2 + (7-9)^2 + (1-9)^2) / (7) =  15.43 years squared == DIFFERENT\n",
    "   e) Standard Deviation (population: v^0.5 = 15.43^0.5 = 3.93 years == DIFFERENT\n",
    "   f) Standard Error: s / (n^0.5) = 3.93 / (7^0.5) = 1.48 years == DIFFERENT\n",
    "   \n",
    "   If young Jessica was added to the Bunch, I would describe the Brady Bunch kids as being 10 +- 3.93 years old.  I would use the median to describe the central tendency of the group because Jessica becomes an outlier who skews the mean lower.  For this reason, the less skewed Median better describes the Bunch as a whole.  I would still use the standard deviation to describe the variance of the group for the same reasons as listed above."
   ]
  },
  {
   "cell_type": "code",
   "execution_count": 11,
   "metadata": {},
   "outputs": [
    {
     "data": {
      "text/html": [
       "<div>\n",
       "<style scoped>\n",
       "    .dataframe tbody tr th:only-of-type {\n",
       "        vertical-align: middle;\n",
       "    }\n",
       "\n",
       "    .dataframe tbody tr th {\n",
       "        vertical-align: top;\n",
       "    }\n",
       "\n",
       "    .dataframe thead th {\n",
       "        text-align: right;\n",
       "    }\n",
       "</style>\n",
       "<table border=\"1\" class=\"dataframe\">\n",
       "  <thead>\n",
       "    <tr style=\"text-align: right;\">\n",
       "      <th></th>\n",
       "      <th>0</th>\n",
       "    </tr>\n",
       "  </thead>\n",
       "  <tbody>\n",
       "    <tr>\n",
       "      <th>count</th>\n",
       "      <td>7.000000</td>\n",
       "    </tr>\n",
       "    <tr>\n",
       "      <th>mean</th>\n",
       "      <td>9.000000</td>\n",
       "    </tr>\n",
       "    <tr>\n",
       "      <th>std</th>\n",
       "      <td>4.242641</td>\n",
       "    </tr>\n",
       "    <tr>\n",
       "      <th>min</th>\n",
       "      <td>1.000000</td>\n",
       "    </tr>\n",
       "    <tr>\n",
       "      <th>25%</th>\n",
       "      <td>7.500000</td>\n",
       "    </tr>\n",
       "    <tr>\n",
       "      <th>50%</th>\n",
       "      <td>10.000000</td>\n",
       "    </tr>\n",
       "    <tr>\n",
       "      <th>75%</th>\n",
       "      <td>11.500000</td>\n",
       "    </tr>\n",
       "    <tr>\n",
       "      <th>max</th>\n",
       "      <td>14.000000</td>\n",
       "    </tr>\n",
       "  </tbody>\n",
       "</table>\n",
       "</div>"
      ],
      "text/plain": [
       "               0\n",
       "count   7.000000\n",
       "mean    9.000000\n",
       "std     4.242641\n",
       "min     1.000000\n",
       "25%     7.500000\n",
       "50%    10.000000\n",
       "75%    11.500000\n",
       "max    14.000000"
      ]
     },
     "execution_count": 11,
     "metadata": {},
     "output_type": "execute_result"
    }
   ],
   "source": [
    "brady[-1] = 1\n",
    "bunch = pd.DataFrame(brady)\n",
    "bunch.describe()"
   ]
  },
  {
   "cell_type": "markdown",
   "metadata": {},
   "source": [
    "5. Without knowing the number of readers each magazine polled, I cannot give an accurage percentage of adult Americans who were fans on the 50th anniversary.  Because percentages are out of a total, one cannot assume that all of the given percentages are out of the same total number of respondants, and therefore cannot average the percentages as normal.  \n",
    "\n",
    "    If I assume that all of the given percentages are out of the same total number of respondants, then the average would be calculated as follows:\n",
    "    average = (20 + 23 + 17 + 5) / 4 = 16.25%\n",
    "    \n",
    "    Given that the SciPhi Fanatic is an outlier, a better measure of central tendeny would be the median, which would be approximately 18.5%."
   ]
  },
  {
   "cell_type": "code",
   "execution_count": 14,
   "metadata": {},
   "outputs": [
    {
     "name": "stdout",
     "output_type": "stream",
     "text": [
      "16.25\n",
      "18.5\n"
     ]
    }
   ],
   "source": [
    "fans = [20, 23, 17, 5]\n",
    "print(np.mean(fans))\n",
    "print(np.median(fans))"
   ]
  },
  {
   "cell_type": "code",
   "execution_count": null,
   "metadata": {},
   "outputs": [],
   "source": []
  }
 ],
 "metadata": {
  "kernelspec": {
   "display_name": "Python 3",
   "language": "python",
   "name": "python3"
  },
  "language_info": {
   "codemirror_mode": {
    "name": "ipython",
    "version": 3
   },
   "file_extension": ".py",
   "mimetype": "text/x-python",
   "name": "python",
   "nbconvert_exporter": "python",
   "pygments_lexer": "ipython3",
   "version": "3.6.2"
  }
 },
 "nbformat": 4,
 "nbformat_minor": 2
}
